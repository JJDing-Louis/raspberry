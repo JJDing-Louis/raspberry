{
 "cells": [
  {
   "cell_type": "code",
   "execution_count": 2,
   "metadata": {},
   "outputs": [
    {
     "name": "stdout",
     "output_type": "stream",
     "text": [
      "at the top level: fruibat\n",
      "inside print_global: fruibat\n"
     ]
    }
   ],
   "source": [
    "animal = 'fruibat'\n",
    "def print_global():\n",
    "    print('inside print_global:', animal)\n",
    "print('at the top level:',animal)\n",
    "print_global()"
   ]
  },
  {
   "cell_type": "code",
   "execution_count": 8,
   "metadata": {},
   "outputs": [
    {
     "name": "stdout",
     "output_type": "stream",
     "text": [
      "inside change_and print_global: fruibat\n",
      "after the change: wombat\n",
      "at the top level: wombat\n"
     ]
    }
   ],
   "source": [
    "def change_and_print_global():\n",
    "    global animal\n",
    "    print('inside change_and print_global:',animal)\n",
    "    animal = 'wombat'\n",
    "    print(\"after the change:\", animal)\n",
    "\n",
    "change_and_print_global()\n",
    "print('at the top level:',animal)"
   ]
  },
  {
   "cell_type": "code",
   "execution_count": null,
   "metadata": {},
   "outputs": [],
   "source": []
  }
 ],
 "metadata": {
  "kernelspec": {
   "display_name": "Python 3",
   "language": "python",
   "name": "python3"
  },
  "language_info": {
   "codemirror_mode": {
    "name": "ipython",
    "version": 3
   },
   "file_extension": ".py",
   "mimetype": "text/x-python",
   "name": "python",
   "nbconvert_exporter": "python",
   "pygments_lexer": "ipython3",
   "version": "3.7.4"
  }
 },
 "nbformat": 4,
 "nbformat_minor": 2
}
